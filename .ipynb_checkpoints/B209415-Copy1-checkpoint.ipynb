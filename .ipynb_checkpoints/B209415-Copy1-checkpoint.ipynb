{
 "cells": [
  {
   "cell_type": "markdown",
   "id": "pleased-absolute",
   "metadata": {},
   "source": [
    "# Title: Collecting data using interactive Jupyter widgets  \n",
    "\n",
    "\n"
   ]
  },
  {
   "cell_type": "code",
   "execution_count": 12,
   "id": "frozen-attendance",
   "metadata": {
    "tags": [
     "remove_cell"
    ]
   },
   "outputs": [],
   "source": [
    "#Load the 'pandas' package\n",
    "import pandas as pd\n"
   ]
  },
  {
   "cell_type": "code",
   "execution_count": 13,
   "id": "controlling-restaurant",
   "metadata": {},
   "outputs": [
    {
     "data": {
      "text/html": [
       "<div>\n",
       "<style scoped>\n",
       "    .dataframe tbody tr th:only-of-type {\n",
       "        vertical-align: middle;\n",
       "    }\n",
       "\n",
       "    .dataframe tbody tr th {\n",
       "        vertical-align: top;\n",
       "    }\n",
       "\n",
       "    .dataframe thead th {\n",
       "        text-align: right;\n",
       "    }\n",
       "</style>\n",
       "<table border=\"1\" class=\"dataframe\">\n",
       "  <thead>\n",
       "    <tr style=\"text-align: right;\">\n",
       "      <th></th>\n",
       "      <th>index</th>\n",
       "      <th>period</th>\n",
       "      <th>attendances</th>\n",
       "      <th>breaches</th>\n",
       "    </tr>\n",
       "  </thead>\n",
       "  <tbody>\n",
       "    <tr>\n",
       "      <th>0</th>\n",
       "      <td>1155</td>\n",
       "      <td>2016-12-01</td>\n",
       "      <td>200</td>\n",
       "      <td>0</td>\n",
       "    </tr>\n",
       "    <tr>\n",
       "      <th>1</th>\n",
       "      <td>2059</td>\n",
       "      <td>2016-10-01</td>\n",
       "      <td>6452</td>\n",
       "      <td>360</td>\n",
       "    </tr>\n",
       "    <tr>\n",
       "      <th>2</th>\n",
       "      <td>3468</td>\n",
       "      <td>2016-05-01</td>\n",
       "      <td>417</td>\n",
       "      <td>0</td>\n",
       "    </tr>\n",
       "    <tr>\n",
       "      <th>3</th>\n",
       "      <td>4153</td>\n",
       "      <td>2018-03-01</td>\n",
       "      <td>9376</td>\n",
       "      <td>112</td>\n",
       "    </tr>\n",
       "    <tr>\n",
       "      <th>4</th>\n",
       "      <td>4820</td>\n",
       "      <td>2018-02-01</td>\n",
       "      <td>245</td>\n",
       "      <td>0</td>\n",
       "    </tr>\n",
       "    <tr>\n",
       "      <th>5</th>\n",
       "      <td>7243</td>\n",
       "      <td>2017-07-01</td>\n",
       "      <td>5170</td>\n",
       "      <td>235</td>\n",
       "    </tr>\n",
       "    <tr>\n",
       "      <th>6</th>\n",
       "      <td>8057</td>\n",
       "      <td>2017-04-01</td>\n",
       "      <td>15957</td>\n",
       "      <td>1309</td>\n",
       "    </tr>\n",
       "    <tr>\n",
       "      <th>7</th>\n",
       "      <td>8957</td>\n",
       "      <td>2019-02-01</td>\n",
       "      <td>7258</td>\n",
       "      <td>1374</td>\n",
       "    </tr>\n",
       "    <tr>\n",
       "      <th>8</th>\n",
       "      <td>10214</td>\n",
       "      <td>2018-10-01</td>\n",
       "      <td>3197</td>\n",
       "      <td>0</td>\n",
       "    </tr>\n",
       "    <tr>\n",
       "      <th>9</th>\n",
       "      <td>10328</td>\n",
       "      <td>2018-10-01</td>\n",
       "      <td>2033</td>\n",
       "      <td>8</td>\n",
       "    </tr>\n",
       "    <tr>\n",
       "      <th>10</th>\n",
       "      <td>11767</td>\n",
       "      <td>2018-06-01</td>\n",
       "      <td>336</td>\n",
       "      <td>1</td>\n",
       "    </tr>\n",
       "  </tbody>\n",
       "</table>\n",
       "</div>"
      ],
      "text/plain": [
       "    index      period  attendances  breaches\n",
       "0    1155  2016-12-01          200         0\n",
       "1    2059  2016-10-01         6452       360\n",
       "2    3468  2016-05-01          417         0\n",
       "3    4153  2018-03-01         9376       112\n",
       "4    4820  2018-02-01          245         0\n",
       "5    7243  2017-07-01         5170       235\n",
       "6    8057  2017-04-01        15957      1309\n",
       "7    8957  2019-02-01         7258      1374\n",
       "8   10214  2018-10-01         3197         0\n",
       "9   10328  2018-10-01         2033         8\n",
       "10  11767  2018-06-01          336         1"
      ]
     },
     "execution_count": 13,
     "metadata": {},
     "output_type": "execute_result"
    }
   ],
   "source": [
    "#As we will be using test data of ae attendences\n",
    "#the data will be treated as a variable so it will be easy to call it\n",
    "aetestdata=pd.read_csv(\"../Data/ae_attendances_test.csv\")\n",
    "aetestdata"
   ]
  },
  {
   "cell_type": "code",
   "execution_count": 14,
   "id": "south-license",
   "metadata": {},
   "outputs": [
    {
     "name": "stdout",
     "output_type": "stream",
     "text": [
      "Output:\n",
      "index           int64\n",
      "period         object\n",
      "attendances     int64\n",
      "breaches        int64\n",
      "dtype: object\n"
     ]
    }
   ],
   "source": [
    "#Investigating the type of the data\n",
    "#This step is vey importabt to select the appropraite wedge for data capturing\n",
    "result = testData.dtypes\n",
    "print(\"Output:\")\n",
    "print(result)"
   ]
  },
  {
   "cell_type": "code",
   "execution_count": 15,
   "id": "friendly-pennsylvania",
   "metadata": {
    "tags": [
     "hide-input"
    ]
   },
   "outputs": [
    {
     "name": "stdout",
     "output_type": "stream",
     "text": [
      "Output:\n",
      "index           int64\n",
      "period         object\n",
      "attendances     int64\n",
      "breaches        int64\n",
      "dtype: object\n"
     ]
    }
   ],
   "source": [
    "result = aetestdata.dtypes\n",
    "print(\"Output:\")\n",
    "print(result)"
   ]
  },
  {
   "cell_type": "markdown",
   "id": "broken-consciousness",
   "metadata": {},
   "source": [
    "The overall data type is an object (string), however the variables inside it include: Integer (Index,attendence,breaches), period is object (sting)"
   ]
  },
  {
   "cell_type": "markdown",
   "id": "hydraulic-checkout",
   "metadata": {},
   "source": [
    "Now we will strat data collection process by making the data frame"
   ]
  },
  {
   "cell_type": "code",
   "execution_count": 16,
   "id": "residential-index",
   "metadata": {
    "tags": [
     "hide-input"
    ]
   },
   "outputs": [
    {
     "data": {
      "text/html": [
       "<div>\n",
       "<style scoped>\n",
       "    .dataframe tbody tr th:only-of-type {\n",
       "        vertical-align: middle;\n",
       "    }\n",
       "\n",
       "    .dataframe tbody tr th {\n",
       "        vertical-align: top;\n",
       "    }\n",
       "\n",
       "    .dataframe thead th {\n",
       "        text-align: right;\n",
       "    }\n",
       "</style>\n",
       "<table border=\"1\" class=\"dataframe\">\n",
       "  <thead>\n",
       "    <tr style=\"text-align: right;\">\n",
       "      <th></th>\n",
       "      <th>index</th>\n",
       "      <th>period</th>\n",
       "      <th>attendances</th>\n",
       "      <th>breaches</th>\n",
       "      <th>consent</th>\n",
       "    </tr>\n",
       "  </thead>\n",
       "  <tbody>\n",
       "    <tr>\n",
       "      <th>0</th>\n",
       "      <td>0</td>\n",
       "      <td>2000-01-01</td>\n",
       "      <td>0</td>\n",
       "      <td>0</td>\n",
       "      <td>False</td>\n",
       "    </tr>\n",
       "  </tbody>\n",
       "</table>\n",
       "</div>"
      ],
      "text/plain": [
       "   index     period  attendances  breaches  consent\n",
       "0      0 2000-01-01            0         0    False"
      ]
     },
     "execution_count": 16,
     "metadata": {},
     "output_type": "execute_result"
    }
   ],
   "source": [
    "#Creation of a data fram into which the data collected will be inputted\n",
    "#Peroid which was identified as object was chnaged into timestamp to allow further analysis,\n",
    "#the data selected as a start for time stap is 01/01/2000 as no data will be collected prior to this date\n",
    "#Consent (boolen data type) was added to the data frame as it is crucial for ethical consideration related to data collection\n",
    "\n",
    "dfTofill = pd.DataFrame({'index': [0],\n",
    "'period': [pd.Timestamp('20000101')],\n",
    "'attendances': [0],\n",
    "'breaches': [0],\n",
    "'consent': [False]})\n",
    "dfTofill\n",
    "\n",
    "dfTofill"
   ]
  },
  {
   "cell_type": "markdown",
   "id": "located-recruitment",
   "metadata": {},
   "source": [
    "Now we will save our data fram into which our data will be collectd\n",
    "The file will be named **createdData**"
   ]
  },
  {
   "cell_type": "code",
   "execution_count": 19,
   "id": "animated-envelope",
   "metadata": {
    "tags": [
     "hide-input"
    ]
   },
   "outputs": [],
   "source": [
    "dfTofill.to_csv('../Data/createdData.csv', index=False)"
   ]
  },
  {
   "cell_type": "markdown",
   "id": "spiritual-comparative",
   "metadata": {},
   "source": [
    "Now will save the data that will be collected into variable to allow easy call for the data, it will also be called **createdData**"
   ]
  },
  {
   "cell_type": "code",
   "execution_count": 20,
   "id": "quantitative-wholesale",
   "metadata": {},
   "outputs": [
    {
     "data": {
      "text/html": [
       "<div>\n",
       "<style scoped>\n",
       "    .dataframe tbody tr th:only-of-type {\n",
       "        vertical-align: middle;\n",
       "    }\n",
       "\n",
       "    .dataframe tbody tr th {\n",
       "        vertical-align: top;\n",
       "    }\n",
       "\n",
       "    .dataframe thead th {\n",
       "        text-align: right;\n",
       "    }\n",
       "</style>\n",
       "<table border=\"1\" class=\"dataframe\">\n",
       "  <thead>\n",
       "    <tr style=\"text-align: right;\">\n",
       "      <th></th>\n",
       "      <th>index</th>\n",
       "      <th>period</th>\n",
       "      <th>attendances</th>\n",
       "      <th>breaches</th>\n",
       "      <th>consent</th>\n",
       "    </tr>\n",
       "  </thead>\n",
       "  <tbody>\n",
       "    <tr>\n",
       "      <th>0</th>\n",
       "      <td>0</td>\n",
       "      <td>2000-01-01</td>\n",
       "      <td>0</td>\n",
       "      <td>0</td>\n",
       "      <td>False</td>\n",
       "    </tr>\n",
       "  </tbody>\n",
       "</table>\n",
       "</div>"
      ],
      "text/plain": [
       "   index      period  attendances  breaches  consent\n",
       "0      0  2000-01-01            0         0    False"
      ]
     },
     "execution_count": 20,
     "metadata": {},
     "output_type": "execute_result"
    }
   ],
   "source": [
    "createdData=pd.read_csv(\"../Data/createdData.csv\")\n",
    "createdData"
   ]
  },
  {
   "cell_type": "markdown",
   "id": "sealed-chemistry",
   "metadata": {},
   "source": [
    "**Working with widgets**"
   ]
  },
  {
   "cell_type": "markdown",
   "id": "identical-seating",
   "metadata": {},
   "source": [
    "firstly we need to load the package necessary."
   ]
  },
  {
   "cell_type": "markdown",
   "id": "reliable-cleaning",
   "metadata": {},
   "source": [
    "widgets will allow us to  creat a tool for data collection."
   ]
  },
  {
   "cell_type": "markdown",
   "id": "vertical-champagne",
   "metadata": {},
   "source": [
    "choosing the code will depend on the type of data."
   ]
  },
  {
   "cell_type": "code",
   "execution_count": 22,
   "id": "aquatic-chemical",
   "metadata": {},
   "outputs": [],
   "source": [
    "#Loading pachages\n",
    "import ipywidgets as widgets\n",
    "from IPython.display import display"
   ]
  },
  {
   "cell_type": "markdown",
   "id": "attempted-understanding",
   "metadata": {},
   "source": [
    "**Now will start tool creation and data collection**"
   ]
  },
  {
   "cell_type": "code",
   "execution_count": 85,
   "id": "accredited-contrary",
   "metadata": {},
   "outputs": [
    {
     "data": {
      "application/vnd.jupyter.widget-view+json": {
       "model_id": "65f2c99c4c00457a985566770dbe322e",
       "version_major": 2,
       "version_minor": 0
      },
      "text/plain": [
       "Checkbox(value=False, description='I consent for the data I have provided to be processed and shared in accord…"
      ]
     },
     "metadata": {},
     "output_type": "display_data"
    },
    {
     "data": {
      "application/vnd.jupyter.widget-view+json": {
       "model_id": "b967516576464869b554bce3c4aac658",
       "version_major": 2,
       "version_minor": 0
      },
      "text/plain": [
       "DatePicker(value=None, description='Period')"
      ]
     },
     "metadata": {},
     "output_type": "display_data"
    },
    {
     "data": {
      "application/vnd.jupyter.widget-view+json": {
       "model_id": "828e2cff221047c09a88ffdc12939400",
       "version_major": 2,
       "version_minor": 0
      },
      "text/plain": [
       "IntText(value=0, description='attendances:')"
      ]
     },
     "metadata": {},
     "output_type": "display_data"
    },
    {
     "data": {
      "application/vnd.jupyter.widget-view+json": {
       "model_id": "1f4e89ebbb4840ffa94259c8b6ca07b5",
       "version_major": 2,
       "version_minor": 0
      },
      "text/plain": [
       "IntText(value=0, description='breaches:')"
      ]
     },
     "metadata": {},
     "output_type": "display_data"
    }
   ],
   "source": [
    "#Adding the index number\n",
    "#This number will be changed with entering each new observation\n",
    "index_number=10328\n",
    "dfTofill.iloc[0,0]=index_number\n",
    "dfTofill\n",
    "\n",
    "\n",
    "#1- Adding the consent\n",
    "a = widgets.Checkbox(\n",
    "value=False,\n",
    "description='I consent for the data I have provided to be processed and shared in accordance with data protection regulations with the purpose of improving care service provision across the UK.',\n",
    "disabled=False\n",
    ")\n",
    "display(a)\n",
    "\n",
    "\n",
    "#2- Creating the widge to collect the period\n",
    "b = widgets.DatePicker(\n",
    "description='Period',\n",
    "disabled=False\n",
    ")\n",
    "display(b)\n",
    "\n",
    "\n",
    "#3- Creating widge to collect attendances (integr data)\n",
    "c=widgets.IntText(\n",
    "value=0,\n",
    "description='attendances:',\n",
    "disabled=False)\n",
    "display(c)\n",
    "\n",
    "#4- Creating wige to collect breaches (intger data)\n",
    "d=widgets.IntText(\n",
    "value=0,\n",
    "description='breaches:',\n",
    "disabled=False)\n",
    "display(d)"
   ]
  },
  {
   "cell_type": "code",
   "execution_count": 86,
   "id": "latin-bearing",
   "metadata": {},
   "outputs": [
    {
     "data": {
      "text/html": [
       "<div>\n",
       "<style scoped>\n",
       "    .dataframe tbody tr th:only-of-type {\n",
       "        vertical-align: middle;\n",
       "    }\n",
       "\n",
       "    .dataframe tbody tr th {\n",
       "        vertical-align: top;\n",
       "    }\n",
       "\n",
       "    .dataframe thead th {\n",
       "        text-align: right;\n",
       "    }\n",
       "</style>\n",
       "<table border=\"1\" class=\"dataframe\">\n",
       "  <thead>\n",
       "    <tr style=\"text-align: right;\">\n",
       "      <th></th>\n",
       "      <th>index</th>\n",
       "      <th>period</th>\n",
       "      <th>attendances</th>\n",
       "      <th>breaches</th>\n",
       "      <th>consent</th>\n",
       "    </tr>\n",
       "  </thead>\n",
       "  <tbody>\n",
       "    <tr>\n",
       "      <th>0</th>\n",
       "      <td>10328</td>\n",
       "      <td>2018-10-01</td>\n",
       "      <td>2033</td>\n",
       "      <td>8</td>\n",
       "      <td>True</td>\n",
       "    </tr>\n",
       "  </tbody>\n",
       "</table>\n",
       "</div>"
      ],
      "text/plain": [
       "   index      period  attendances  breaches  consent\n",
       "0  10328  2018-10-01         2033         8     True"
      ]
     },
     "execution_count": 86,
     "metadata": {},
     "output_type": "execute_result"
    }
   ],
   "source": [
    "dfTofill.iloc[0,4]=a.value\n",
    "dfTofill.iloc[0,1]=b.value\n",
    "dfTofill.iloc[0,2]=c.value\n",
    "dfTofill.iloc[0,3]=d.value\n",
    "dfTofill"
   ]
  },
  {
   "cell_type": "code",
   "execution_count": 87,
   "id": "exclusive-criticism",
   "metadata": {},
   "outputs": [
    {
     "data": {
      "text/html": [
       "<div>\n",
       "<style scoped>\n",
       "    .dataframe tbody tr th:only-of-type {\n",
       "        vertical-align: middle;\n",
       "    }\n",
       "\n",
       "    .dataframe tbody tr th {\n",
       "        vertical-align: top;\n",
       "    }\n",
       "\n",
       "    .dataframe thead th {\n",
       "        text-align: right;\n",
       "    }\n",
       "</style>\n",
       "<table border=\"1\" class=\"dataframe\">\n",
       "  <thead>\n",
       "    <tr style=\"text-align: right;\">\n",
       "      <th></th>\n",
       "      <th>index</th>\n",
       "      <th>period</th>\n",
       "      <th>attendances</th>\n",
       "      <th>breaches</th>\n",
       "      <th>consent</th>\n",
       "    </tr>\n",
       "  </thead>\n",
       "  <tbody>\n",
       "    <tr>\n",
       "      <th>0</th>\n",
       "      <td>11767</td>\n",
       "      <td>2018-06-01</td>\n",
       "      <td>336</td>\n",
       "      <td>1</td>\n",
       "      <td>True</td>\n",
       "    </tr>\n",
       "    <tr>\n",
       "      <th>0</th>\n",
       "      <td>1155</td>\n",
       "      <td>2016-12-01</td>\n",
       "      <td>200</td>\n",
       "      <td>0</td>\n",
       "      <td>True</td>\n",
       "    </tr>\n",
       "    <tr>\n",
       "      <th>0</th>\n",
       "      <td>2059</td>\n",
       "      <td>2016-10-01</td>\n",
       "      <td>6452</td>\n",
       "      <td>360</td>\n",
       "      <td>True</td>\n",
       "    </tr>\n",
       "    <tr>\n",
       "      <th>0</th>\n",
       "      <td>3468</td>\n",
       "      <td>2016-05-01</td>\n",
       "      <td>417</td>\n",
       "      <td>0</td>\n",
       "      <td>True</td>\n",
       "    </tr>\n",
       "    <tr>\n",
       "      <th>0</th>\n",
       "      <td>4153</td>\n",
       "      <td>2018-03-01</td>\n",
       "      <td>9376</td>\n",
       "      <td>112</td>\n",
       "      <td>True</td>\n",
       "    </tr>\n",
       "    <tr>\n",
       "      <th>0</th>\n",
       "      <td>4820</td>\n",
       "      <td>2018-02-01</td>\n",
       "      <td>245</td>\n",
       "      <td>0</td>\n",
       "      <td>True</td>\n",
       "    </tr>\n",
       "    <tr>\n",
       "      <th>0</th>\n",
       "      <td>7243</td>\n",
       "      <td>2017-07-01</td>\n",
       "      <td>5170</td>\n",
       "      <td>235</td>\n",
       "      <td>True</td>\n",
       "    </tr>\n",
       "    <tr>\n",
       "      <th>0</th>\n",
       "      <td>8057</td>\n",
       "      <td>2017-04-01</td>\n",
       "      <td>15957</td>\n",
       "      <td>1309</td>\n",
       "      <td>True</td>\n",
       "    </tr>\n",
       "    <tr>\n",
       "      <th>0</th>\n",
       "      <td>8957</td>\n",
       "      <td>2019-02-01</td>\n",
       "      <td>7258</td>\n",
       "      <td>1374</td>\n",
       "      <td>True</td>\n",
       "    </tr>\n",
       "    <tr>\n",
       "      <th>0</th>\n",
       "      <td>10214</td>\n",
       "      <td>2018-10-01</td>\n",
       "      <td>3197</td>\n",
       "      <td>0</td>\n",
       "      <td>True</td>\n",
       "    </tr>\n",
       "    <tr>\n",
       "      <th>0</th>\n",
       "      <td>10328</td>\n",
       "      <td>2018-10-01</td>\n",
       "      <td>2033</td>\n",
       "      <td>8</td>\n",
       "      <td>True</td>\n",
       "    </tr>\n",
       "  </tbody>\n",
       "</table>\n",
       "</div>"
      ],
      "text/plain": [
       "   index      period  attendances  breaches  consent\n",
       "0  11767  2018-06-01          336         1     True\n",
       "0   1155  2016-12-01          200         0     True\n",
       "0   2059  2016-10-01         6452       360     True\n",
       "0   3468  2016-05-01          417         0     True\n",
       "0   4153  2018-03-01         9376       112     True\n",
       "0   4820  2018-02-01          245         0     True\n",
       "0   7243  2017-07-01         5170       235     True\n",
       "0   8057  2017-04-01        15957      1309     True\n",
       "0   8957  2019-02-01         7258      1374     True\n",
       "0  10214  2018-10-01         3197         0     True\n",
       "0  10328  2018-10-01         2033         8     True"
      ]
     },
     "metadata": {},
     "output_type": "display_data"
    }
   ],
   "source": [
    "# CollectData is the first data frame\n",
    "# dfTofill is the second data frame\n",
    "createdData = pd.concat([createdData, dfTofill])\n",
    "display(createdData)"
   ]
  },
  {
   "cell_type": "code",
   "execution_count": 88,
   "id": "unavailable-counter",
   "metadata": {},
   "outputs": [
    {
     "data": {
      "text/html": [
       "<div>\n",
       "<style scoped>\n",
       "    .dataframe tbody tr th:only-of-type {\n",
       "        vertical-align: middle;\n",
       "    }\n",
       "\n",
       "    .dataframe tbody tr th {\n",
       "        vertical-align: top;\n",
       "    }\n",
       "\n",
       "    .dataframe thead th {\n",
       "        text-align: right;\n",
       "    }\n",
       "</style>\n",
       "<table border=\"1\" class=\"dataframe\">\n",
       "  <thead>\n",
       "    <tr style=\"text-align: right;\">\n",
       "      <th></th>\n",
       "      <th>index</th>\n",
       "      <th>period</th>\n",
       "      <th>attendances</th>\n",
       "      <th>breaches</th>\n",
       "      <th>consent</th>\n",
       "    </tr>\n",
       "  </thead>\n",
       "  <tbody>\n",
       "    <tr>\n",
       "      <th>0</th>\n",
       "      <td>11767</td>\n",
       "      <td>2018-06-01</td>\n",
       "      <td>336</td>\n",
       "      <td>1</td>\n",
       "      <td>True</td>\n",
       "    </tr>\n",
       "    <tr>\n",
       "      <th>0</th>\n",
       "      <td>1155</td>\n",
       "      <td>2016-12-01</td>\n",
       "      <td>200</td>\n",
       "      <td>0</td>\n",
       "      <td>True</td>\n",
       "    </tr>\n",
       "    <tr>\n",
       "      <th>0</th>\n",
       "      <td>2059</td>\n",
       "      <td>2016-10-01</td>\n",
       "      <td>6452</td>\n",
       "      <td>360</td>\n",
       "      <td>True</td>\n",
       "    </tr>\n",
       "    <tr>\n",
       "      <th>0</th>\n",
       "      <td>3468</td>\n",
       "      <td>2016-05-01</td>\n",
       "      <td>417</td>\n",
       "      <td>0</td>\n",
       "      <td>True</td>\n",
       "    </tr>\n",
       "    <tr>\n",
       "      <th>0</th>\n",
       "      <td>4153</td>\n",
       "      <td>2018-03-01</td>\n",
       "      <td>9376</td>\n",
       "      <td>112</td>\n",
       "      <td>True</td>\n",
       "    </tr>\n",
       "    <tr>\n",
       "      <th>0</th>\n",
       "      <td>4820</td>\n",
       "      <td>2018-02-01</td>\n",
       "      <td>245</td>\n",
       "      <td>0</td>\n",
       "      <td>True</td>\n",
       "    </tr>\n",
       "    <tr>\n",
       "      <th>0</th>\n",
       "      <td>7243</td>\n",
       "      <td>2017-07-01</td>\n",
       "      <td>5170</td>\n",
       "      <td>235</td>\n",
       "      <td>True</td>\n",
       "    </tr>\n",
       "    <tr>\n",
       "      <th>0</th>\n",
       "      <td>8057</td>\n",
       "      <td>2017-04-01</td>\n",
       "      <td>15957</td>\n",
       "      <td>1309</td>\n",
       "      <td>True</td>\n",
       "    </tr>\n",
       "    <tr>\n",
       "      <th>0</th>\n",
       "      <td>8957</td>\n",
       "      <td>2019-02-01</td>\n",
       "      <td>7258</td>\n",
       "      <td>1374</td>\n",
       "      <td>True</td>\n",
       "    </tr>\n",
       "    <tr>\n",
       "      <th>0</th>\n",
       "      <td>10214</td>\n",
       "      <td>2018-10-01</td>\n",
       "      <td>3197</td>\n",
       "      <td>0</td>\n",
       "      <td>True</td>\n",
       "    </tr>\n",
       "    <tr>\n",
       "      <th>0</th>\n",
       "      <td>10328</td>\n",
       "      <td>2018-10-01</td>\n",
       "      <td>2033</td>\n",
       "      <td>8</td>\n",
       "      <td>True</td>\n",
       "    </tr>\n",
       "  </tbody>\n",
       "</table>\n",
       "</div>"
      ],
      "text/plain": [
       "   index      period  attendances  breaches  consent\n",
       "0  11767  2018-06-01          336         1     True\n",
       "0   1155  2016-12-01          200         0     True\n",
       "0   2059  2016-10-01         6452       360     True\n",
       "0   3468  2016-05-01          417         0     True\n",
       "0   4153  2018-03-01         9376       112     True\n",
       "0   4820  2018-02-01          245         0     True\n",
       "0   7243  2017-07-01         5170       235     True\n",
       "0   8057  2017-04-01        15957      1309     True\n",
       "0   8957  2019-02-01         7258      1374     True\n",
       "0  10214  2018-10-01         3197         0     True\n",
       "0  10328  2018-10-01         2033         8     True"
      ]
     },
     "metadata": {},
     "output_type": "display_data"
    }
   ],
   "source": [
    "createdData=createdData[createdData['consent'] == True]\n",
    "display(createdData)"
   ]
  },
  {
   "cell_type": "code",
   "execution_count": 89,
   "id": "sporting-civilian",
   "metadata": {},
   "outputs": [],
   "source": [
    "createdData.to_csv('../Data/createdData.csv', index=False)"
   ]
  },
  {
   "cell_type": "code",
   "execution_count": 90,
   "id": "therapeutic-disclaimer",
   "metadata": {},
   "outputs": [],
   "source": [
    "createdData.to_csv('../RawData/createdData.csv', index=False)"
   ]
  }
 ],
 "metadata": {
  "kernelspec": {
   "display_name": "Python 3 (ipykernel)",
   "language": "python",
   "name": "python3"
  },
  "language_info": {
   "codemirror_mode": {
    "name": "ipython",
    "version": 3
   },
   "file_extension": ".py",
   "mimetype": "text/x-python",
   "name": "python",
   "nbconvert_exporter": "python",
   "pygments_lexer": "ipython3",
   "version": "3.9.2"
  }
 },
 "nbformat": 4,
 "nbformat_minor": 5
}

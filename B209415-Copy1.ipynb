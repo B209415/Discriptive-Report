{
 "cells": [
  {
   "cell_type": "markdown",
   "id": "pleased-absolute",
   "metadata": {},
   "source": [
    "# Title: Collecting data using interactive Jupyter widgets  \n",
    "\n",
    "\n"
   ]
  },
  {
   "cell_type": "code",
   "execution_count": 1,
   "id": "frozen-attendance",
   "metadata": {
    "tags": [
     "remove_cell"
    ]
   },
   "outputs": [],
   "source": [
    "#Load the 'pandas' package\n",
    "import pandas as pd\n"
   ]
  },
  {
   "cell_type": "code",
   "execution_count": 10,
   "id": "hawaiian-capability",
   "metadata": {},
   "outputs": [],
   "source": [
    "import os"
   ]
  },
  {
   "cell_type": "code",
   "execution_count": 11,
   "id": "sunrise-citizenship",
   "metadata": {},
   "outputs": [
    {
     "name": "stdout",
     "output_type": "stream",
     "text": [
      "Current working directory: /home/jovyan/B209415/B209415- Second assessment - Descriptive report/Discriptive-Report\n"
     ]
    }
   ],
   "source": [
    "print(\"Current working directory: {0}\".format(os.getcwd()))"
   ]
  },
  {
   "cell_type": "code",
   "execution_count": 27,
   "id": "necessary-double",
   "metadata": {},
   "outputs": [
    {
     "data": {
      "text/html": [
       "<div>\n",
       "<style scoped>\n",
       "    .dataframe tbody tr th:only-of-type {\n",
       "        vertical-align: middle;\n",
       "    }\n",
       "\n",
       "    .dataframe tbody tr th {\n",
       "        vertical-align: top;\n",
       "    }\n",
       "\n",
       "    .dataframe thead th {\n",
       "        text-align: right;\n",
       "    }\n",
       "</style>\n",
       "<table border=\"1\" class=\"dataframe\">\n",
       "  <thead>\n",
       "    <tr style=\"text-align: right;\">\n",
       "      <th></th>\n",
       "      <th>index</th>\n",
       "      <th>period</th>\n",
       "      <th>attendances</th>\n",
       "      <th>breaches</th>\n",
       "    </tr>\n",
       "  </thead>\n",
       "  <tbody>\n",
       "    <tr>\n",
       "      <th>0</th>\n",
       "      <td>1860</td>\n",
       "      <td>2016-10-01</td>\n",
       "      <td>8472</td>\n",
       "      <td>1977</td>\n",
       "    </tr>\n",
       "    <tr>\n",
       "      <th>1</th>\n",
       "      <td>2350</td>\n",
       "      <td>2016-09-01</td>\n",
       "      <td>5033</td>\n",
       "      <td>17</td>\n",
       "    </tr>\n",
       "    <tr>\n",
       "      <th>2</th>\n",
       "      <td>2718</td>\n",
       "      <td>2016-08-01</td>\n",
       "      <td>1732</td>\n",
       "      <td>0</td>\n",
       "    </tr>\n",
       "    <tr>\n",
       "      <th>3</th>\n",
       "      <td>3299</td>\n",
       "      <td>2016-06-01</td>\n",
       "      <td>9464</td>\n",
       "      <td>1941</td>\n",
       "    </tr>\n",
       "    <tr>\n",
       "      <th>4</th>\n",
       "      <td>4176</td>\n",
       "      <td>2018-03-01</td>\n",
       "      <td>17247</td>\n",
       "      <td>273</td>\n",
       "    </tr>\n",
       "    <tr>\n",
       "      <th>5</th>\n",
       "      <td>4519</td>\n",
       "      <td>2018-02-01</td>\n",
       "      <td>13286</td>\n",
       "      <td>59</td>\n",
       "    </tr>\n",
       "    <tr>\n",
       "      <th>6</th>\n",
       "      <td>7346</td>\n",
       "      <td>2017-07-01</td>\n",
       "      <td>6797</td>\n",
       "      <td>644</td>\n",
       "    </tr>\n",
       "    <tr>\n",
       "      <th>7</th>\n",
       "      <td>7980</td>\n",
       "      <td>2017-05-01</td>\n",
       "      <td>10063</td>\n",
       "      <td>1874</td>\n",
       "    </tr>\n",
       "    <tr>\n",
       "      <th>8</th>\n",
       "      <td>9182</td>\n",
       "      <td>2019-01-01</td>\n",
       "      <td>474</td>\n",
       "      <td>0</td>\n",
       "    </tr>\n",
       "    <tr>\n",
       "      <th>9</th>\n",
       "      <td>10077</td>\n",
       "      <td>2018-11-01</td>\n",
       "      <td>10379</td>\n",
       "      <td>727</td>\n",
       "    </tr>\n",
       "    <tr>\n",
       "      <th>10</th>\n",
       "      <td>10412</td>\n",
       "      <td>2018-10-01</td>\n",
       "      <td>334</td>\n",
       "      <td>0</td>\n",
       "    </tr>\n",
       "    <tr>\n",
       "      <th>11</th>\n",
       "      <td>10583</td>\n",
       "      <td>2018-09-01</td>\n",
       "      <td>9657</td>\n",
       "      <td>73</td>\n",
       "    </tr>\n",
       "  </tbody>\n",
       "</table>\n",
       "</div>"
      ],
      "text/plain": [
       "    index      period  attendances  breaches\n",
       "0    1860  2016-10-01         8472      1977\n",
       "1    2350  2016-09-01         5033        17\n",
       "2    2718  2016-08-01         1732         0\n",
       "3    3299  2016-06-01         9464      1941\n",
       "4    4176  2018-03-01        17247       273\n",
       "5    4519  2018-02-01        13286        59\n",
       "6    7346  2017-07-01         6797       644\n",
       "7    7980  2017-05-01        10063      1874\n",
       "8    9182  2019-01-01          474         0\n",
       "9   10077  2018-11-01        10379       727\n",
       "10  10412  2018-10-01          334         0\n",
       "11  10583  2018-09-01         9657        73"
      ]
     },
     "execution_count": 27,
     "metadata": {},
     "output_type": "execute_result"
    }
   ],
   "source": [
    "aetestdata=pd.read_csv(\"/home/jovyan/B209415/B209415- Second assessment - Descriptive report/Discriptive-Report/Data/ae_attendances_test.csv\")\n",
    "aetestdata"
   ]
  },
  {
   "cell_type": "code",
   "execution_count": 29,
   "id": "south-license",
   "metadata": {},
   "outputs": [
    {
     "name": "stdout",
     "output_type": "stream",
     "text": [
      "Output:\n",
      "index           int64\n",
      "period         object\n",
      "attendances     int64\n",
      "breaches        int64\n",
      "dtype: object\n"
     ]
    }
   ],
   "source": [
    "#Investigating the type of the data\n",
    "#This step is vey importabt to select the appropraite wedge for data capturing\n",
    "result = aetestdata.dtypes\n",
    "print(\"Output:\")\n",
    "print(result)"
   ]
  },
  {
   "cell_type": "markdown",
   "id": "broken-consciousness",
   "metadata": {},
   "source": [
    "The overall data type is an object (string), however the variables inside it include: Integer (Index,attendence,breaches), period is object (sting)"
   ]
  },
  {
   "cell_type": "markdown",
   "id": "hydraulic-checkout",
   "metadata": {},
   "source": [
    "Now we will strat data collection process by making the data frame"
   ]
  },
  {
   "cell_type": "code",
   "execution_count": 31,
   "id": "residential-index",
   "metadata": {
    "tags": [
     "hide-input"
    ]
   },
   "outputs": [
    {
     "data": {
      "text/html": [
       "<div>\n",
       "<style scoped>\n",
       "    .dataframe tbody tr th:only-of-type {\n",
       "        vertical-align: middle;\n",
       "    }\n",
       "\n",
       "    .dataframe tbody tr th {\n",
       "        vertical-align: top;\n",
       "    }\n",
       "\n",
       "    .dataframe thead th {\n",
       "        text-align: right;\n",
       "    }\n",
       "</style>\n",
       "<table border=\"1\" class=\"dataframe\">\n",
       "  <thead>\n",
       "    <tr style=\"text-align: right;\">\n",
       "      <th></th>\n",
       "      <th>index</th>\n",
       "      <th>period</th>\n",
       "      <th>attendances</th>\n",
       "      <th>breaches</th>\n",
       "      <th>consent</th>\n",
       "    </tr>\n",
       "  </thead>\n",
       "  <tbody>\n",
       "    <tr>\n",
       "      <th>0</th>\n",
       "      <td>0</td>\n",
       "      <td>2000-01-01</td>\n",
       "      <td>0</td>\n",
       "      <td>0</td>\n",
       "      <td>False</td>\n",
       "    </tr>\n",
       "  </tbody>\n",
       "</table>\n",
       "</div>"
      ],
      "text/plain": [
       "   index     period  attendances  breaches  consent\n",
       "0      0 2000-01-01            0         0    False"
      ]
     },
     "execution_count": 31,
     "metadata": {},
     "output_type": "execute_result"
    }
   ],
   "source": [
    "#Creation of a data fram into which the data collected will be inputted\n",
    "#Peroid which was identified as object was chnaged into timestamp to allow further analysis,\n",
    "#the data selected as a start for time stap is 01/01/2000 as no data will be collected prior to this date\n",
    "#Consent (boolen data type) was added to the data frame as it is crucial for ethical consideration related to data collection\n",
    "\n",
    "dfTofill = pd.DataFrame({'index': [0],\n",
    "'period': [pd.Timestamp('20000101')],\n",
    "'attendances': [0],\n",
    "'breaches': [0],\n",
    "'consent': [False]})\n",
    "dfTofill\n",
    "\n",
    "dfTofill"
   ]
  },
  {
   "cell_type": "markdown",
   "id": "located-recruitment",
   "metadata": {},
   "source": [
    "Now we will save our data fram into which our data will be collectd\n",
    "The file will be named **createdData**"
   ]
  },
  {
   "cell_type": "code",
   "execution_count": 37,
   "id": "animated-envelope",
   "metadata": {
    "tags": [
     "hide-input"
    ]
   },
   "outputs": [],
   "source": [
    "dfTofill.to_csv('/home/jovyan/B209415/B209415- Second assessment - Descriptive report/Discriptive-Report/Data/createdData.csv', index=False)"
   ]
  },
  {
   "cell_type": "markdown",
   "id": "spiritual-comparative",
   "metadata": {},
   "source": [
    "Now will save the data that will be collected into variable to allow easy call for the data, it will also be called **createdData**"
   ]
  },
  {
   "cell_type": "code",
   "execution_count": 39,
   "id": "quantitative-wholesale",
   "metadata": {},
   "outputs": [
    {
     "data": {
      "text/html": [
       "<div>\n",
       "<style scoped>\n",
       "    .dataframe tbody tr th:only-of-type {\n",
       "        vertical-align: middle;\n",
       "    }\n",
       "\n",
       "    .dataframe tbody tr th {\n",
       "        vertical-align: top;\n",
       "    }\n",
       "\n",
       "    .dataframe thead th {\n",
       "        text-align: right;\n",
       "    }\n",
       "</style>\n",
       "<table border=\"1\" class=\"dataframe\">\n",
       "  <thead>\n",
       "    <tr style=\"text-align: right;\">\n",
       "      <th></th>\n",
       "      <th>index</th>\n",
       "      <th>period</th>\n",
       "      <th>attendances</th>\n",
       "      <th>breaches</th>\n",
       "      <th>consent</th>\n",
       "    </tr>\n",
       "  </thead>\n",
       "  <tbody>\n",
       "    <tr>\n",
       "      <th>0</th>\n",
       "      <td>0</td>\n",
       "      <td>2000-01-01</td>\n",
       "      <td>0</td>\n",
       "      <td>0</td>\n",
       "      <td>False</td>\n",
       "    </tr>\n",
       "  </tbody>\n",
       "</table>\n",
       "</div>"
      ],
      "text/plain": [
       "   index      period  attendances  breaches  consent\n",
       "0      0  2000-01-01            0         0    False"
      ]
     },
     "execution_count": 39,
     "metadata": {},
     "output_type": "execute_result"
    }
   ],
   "source": [
    "createdData=pd.read_csv(\"/home/jovyan/B209415/B209415- Second assessment - Descriptive report/Discriptive-Report/Data/createdData.csv\")\n",
    "createdData"
   ]
  },
  {
   "cell_type": "markdown",
   "id": "sealed-chemistry",
   "metadata": {},
   "source": [
    "**Working with widgets**"
   ]
  },
  {
   "cell_type": "markdown",
   "id": "identical-seating",
   "metadata": {},
   "source": [
    "firstly we need to load the package necessary."
   ]
  },
  {
   "cell_type": "markdown",
   "id": "reliable-cleaning",
   "metadata": {},
   "source": [
    "widgets will allow us to  creat a tool for data collection."
   ]
  },
  {
   "cell_type": "markdown",
   "id": "vertical-champagne",
   "metadata": {},
   "source": [
    "choosing the code will depend on the type of data."
   ]
  },
  {
   "cell_type": "code",
   "execution_count": 40,
   "id": "aquatic-chemical",
   "metadata": {},
   "outputs": [],
   "source": [
    "#Loading pachages\n",
    "import ipywidgets as widgets\n",
    "from IPython.display import display"
   ]
  },
  {
   "cell_type": "markdown",
   "id": "attempted-understanding",
   "metadata": {},
   "source": [
    "**Now will start tool creation and data collection**"
   ]
  },
  {
   "cell_type": "code",
   "execution_count": 98,
   "id": "accredited-contrary",
   "metadata": {},
   "outputs": [
    {
     "data": {
      "application/vnd.jupyter.widget-view+json": {
       "model_id": "61ab0812862c4142bc664d54f01a7749",
       "version_major": 2,
       "version_minor": 0
      },
      "text/plain": [
       "Checkbox(value=False, description='I consent for the data I have provided to be processed and shared in accord…"
      ]
     },
     "metadata": {},
     "output_type": "display_data"
    },
    {
     "data": {
      "application/vnd.jupyter.widget-view+json": {
       "model_id": "d8b629134bdd432b99c402a3978c92e2",
       "version_major": 2,
       "version_minor": 0
      },
      "text/plain": [
       "DatePicker(value=None, description='Period')"
      ]
     },
     "metadata": {},
     "output_type": "display_data"
    },
    {
     "data": {
      "application/vnd.jupyter.widget-view+json": {
       "model_id": "a87cac3996d54f35a6c1e2ad2b0a37a3",
       "version_major": 2,
       "version_minor": 0
      },
      "text/plain": [
       "IntText(value=0, description='attendances:')"
      ]
     },
     "metadata": {},
     "output_type": "display_data"
    },
    {
     "data": {
      "application/vnd.jupyter.widget-view+json": {
       "model_id": "60361eb074d5491b92037a6b052c0eec",
       "version_major": 2,
       "version_minor": 0
      },
      "text/plain": [
       "IntText(value=0, description='breaches:')"
      ]
     },
     "metadata": {},
     "output_type": "display_data"
    }
   ],
   "source": [
    "#Adding the index number\n",
    "#This number will be changed with entering each new observation\n",
    "index_number=10583\n",
    "dfTofill.iloc[0,0]=index_number\n",
    "dfTofill\n",
    "\n",
    "\n",
    "#1- Adding the consent\n",
    "a = widgets.Checkbox(\n",
    "value=False,\n",
    "description='I consent for the data I have provided to be processed and shared in accordance with data protection regulations with the purpose of improving care service provision across the UK.',\n",
    "disabled=False\n",
    ")\n",
    "display(a)\n",
    "\n",
    "\n",
    "#2- Creating the widge to collect the period\n",
    "b = widgets.DatePicker(\n",
    "description='Period',\n",
    "disabled=False\n",
    ")\n",
    "display(b)\n",
    "\n",
    "\n",
    "#3- Creating widge to collect attendances (integr data)\n",
    "c=widgets.IntText(\n",
    "value=0,\n",
    "description='attendances:',\n",
    "disabled=False)\n",
    "display(c)\n",
    "\n",
    "#4- Creating wige to collect breaches (intger data)\n",
    "d=widgets.IntText(\n",
    "value=0,\n",
    "description='breaches:',\n",
    "disabled=False)\n",
    "display(d)"
   ]
  },
  {
   "cell_type": "code",
   "execution_count": 99,
   "id": "latin-bearing",
   "metadata": {},
   "outputs": [
    {
     "data": {
      "text/html": [
       "<div>\n",
       "<style scoped>\n",
       "    .dataframe tbody tr th:only-of-type {\n",
       "        vertical-align: middle;\n",
       "    }\n",
       "\n",
       "    .dataframe tbody tr th {\n",
       "        vertical-align: top;\n",
       "    }\n",
       "\n",
       "    .dataframe thead th {\n",
       "        text-align: right;\n",
       "    }\n",
       "</style>\n",
       "<table border=\"1\" class=\"dataframe\">\n",
       "  <thead>\n",
       "    <tr style=\"text-align: right;\">\n",
       "      <th></th>\n",
       "      <th>index</th>\n",
       "      <th>period</th>\n",
       "      <th>attendances</th>\n",
       "      <th>breaches</th>\n",
       "      <th>consent</th>\n",
       "    </tr>\n",
       "  </thead>\n",
       "  <tbody>\n",
       "    <tr>\n",
       "      <th>0</th>\n",
       "      <td>10583</td>\n",
       "      <td>2018-09-01</td>\n",
       "      <td>9658</td>\n",
       "      <td>72</td>\n",
       "      <td>True</td>\n",
       "    </tr>\n",
       "  </tbody>\n",
       "</table>\n",
       "</div>"
      ],
      "text/plain": [
       "   index      period  attendances  breaches  consent\n",
       "0  10583  2018-09-01         9658        72     True"
      ]
     },
     "execution_count": 99,
     "metadata": {},
     "output_type": "execute_result"
    }
   ],
   "source": [
    "dfTofill.iloc[0,4]=a.value\n",
    "dfTofill.iloc[0,1]=b.value\n",
    "dfTofill.iloc[0,2]=c.value\n",
    "dfTofill.iloc[0,3]=d.value\n",
    "dfTofill"
   ]
  },
  {
   "cell_type": "code",
   "execution_count": 100,
   "id": "exclusive-criticism",
   "metadata": {},
   "outputs": [
    {
     "data": {
      "text/html": [
       "<div>\n",
       "<style scoped>\n",
       "    .dataframe tbody tr th:only-of-type {\n",
       "        vertical-align: middle;\n",
       "    }\n",
       "\n",
       "    .dataframe tbody tr th {\n",
       "        vertical-align: top;\n",
       "    }\n",
       "\n",
       "    .dataframe thead th {\n",
       "        text-align: right;\n",
       "    }\n",
       "</style>\n",
       "<table border=\"1\" class=\"dataframe\">\n",
       "  <thead>\n",
       "    <tr style=\"text-align: right;\">\n",
       "      <th></th>\n",
       "      <th>index</th>\n",
       "      <th>period</th>\n",
       "      <th>attendances</th>\n",
       "      <th>breaches</th>\n",
       "      <th>consent</th>\n",
       "    </tr>\n",
       "  </thead>\n",
       "  <tbody>\n",
       "    <tr>\n",
       "      <th>0</th>\n",
       "      <td>1860</td>\n",
       "      <td>2016-10-01</td>\n",
       "      <td>8472</td>\n",
       "      <td>1977</td>\n",
       "      <td>True</td>\n",
       "    </tr>\n",
       "    <tr>\n",
       "      <th>0</th>\n",
       "      <td>2350</td>\n",
       "      <td>2016-09-01</td>\n",
       "      <td>5033</td>\n",
       "      <td>17</td>\n",
       "      <td>True</td>\n",
       "    </tr>\n",
       "    <tr>\n",
       "      <th>0</th>\n",
       "      <td>1732</td>\n",
       "      <td>2016-08-01</td>\n",
       "      <td>1732</td>\n",
       "      <td>0</td>\n",
       "      <td>True</td>\n",
       "    </tr>\n",
       "    <tr>\n",
       "      <th>0</th>\n",
       "      <td>3299</td>\n",
       "      <td>2016-06-01</td>\n",
       "      <td>9464</td>\n",
       "      <td>1941</td>\n",
       "      <td>True</td>\n",
       "    </tr>\n",
       "    <tr>\n",
       "      <th>0</th>\n",
       "      <td>4176</td>\n",
       "      <td>2018-03-01</td>\n",
       "      <td>17247</td>\n",
       "      <td>273</td>\n",
       "      <td>True</td>\n",
       "    </tr>\n",
       "    <tr>\n",
       "      <th>0</th>\n",
       "      <td>4519</td>\n",
       "      <td>2018-02-01</td>\n",
       "      <td>13286</td>\n",
       "      <td>59</td>\n",
       "      <td>True</td>\n",
       "    </tr>\n",
       "    <tr>\n",
       "      <th>0</th>\n",
       "      <td>7346</td>\n",
       "      <td>2017-07-01</td>\n",
       "      <td>6797</td>\n",
       "      <td>644</td>\n",
       "      <td>True</td>\n",
       "    </tr>\n",
       "    <tr>\n",
       "      <th>0</th>\n",
       "      <td>7980</td>\n",
       "      <td>2017-05-01</td>\n",
       "      <td>10063</td>\n",
       "      <td>1874</td>\n",
       "      <td>True</td>\n",
       "    </tr>\n",
       "    <tr>\n",
       "      <th>0</th>\n",
       "      <td>9182</td>\n",
       "      <td>2019-01-01</td>\n",
       "      <td>474</td>\n",
       "      <td>0</td>\n",
       "      <td>True</td>\n",
       "    </tr>\n",
       "    <tr>\n",
       "      <th>0</th>\n",
       "      <td>10077</td>\n",
       "      <td>2019-11-01</td>\n",
       "      <td>10379</td>\n",
       "      <td>727</td>\n",
       "      <td>True</td>\n",
       "    </tr>\n",
       "    <tr>\n",
       "      <th>0</th>\n",
       "      <td>10412</td>\n",
       "      <td>2018-10-01</td>\n",
       "      <td>334</td>\n",
       "      <td>0</td>\n",
       "      <td>True</td>\n",
       "    </tr>\n",
       "    <tr>\n",
       "      <th>0</th>\n",
       "      <td>10583</td>\n",
       "      <td>2018-09-01</td>\n",
       "      <td>9658</td>\n",
       "      <td>72</td>\n",
       "      <td>True</td>\n",
       "    </tr>\n",
       "  </tbody>\n",
       "</table>\n",
       "</div>"
      ],
      "text/plain": [
       "   index      period  attendances  breaches  consent\n",
       "0   1860  2016-10-01         8472      1977     True\n",
       "0   2350  2016-09-01         5033        17     True\n",
       "0   1732  2016-08-01         1732         0     True\n",
       "0   3299  2016-06-01         9464      1941     True\n",
       "0   4176  2018-03-01        17247       273     True\n",
       "0   4519  2018-02-01        13286        59     True\n",
       "0   7346  2017-07-01         6797       644     True\n",
       "0   7980  2017-05-01        10063      1874     True\n",
       "0   9182  2019-01-01          474         0     True\n",
       "0  10077  2019-11-01        10379       727     True\n",
       "0  10412  2018-10-01          334         0     True\n",
       "0  10583  2018-09-01         9658        72     True"
      ]
     },
     "metadata": {},
     "output_type": "display_data"
    }
   ],
   "source": [
    "# CollectData is the first data frame\n",
    "# dfTofill is the second data frame\n",
    "createdData = pd.concat([createdData, dfTofill])\n",
    "display(createdData)"
   ]
  },
  {
   "cell_type": "code",
   "execution_count": 101,
   "id": "unavailable-counter",
   "metadata": {},
   "outputs": [
    {
     "data": {
      "text/html": [
       "<div>\n",
       "<style scoped>\n",
       "    .dataframe tbody tr th:only-of-type {\n",
       "        vertical-align: middle;\n",
       "    }\n",
       "\n",
       "    .dataframe tbody tr th {\n",
       "        vertical-align: top;\n",
       "    }\n",
       "\n",
       "    .dataframe thead th {\n",
       "        text-align: right;\n",
       "    }\n",
       "</style>\n",
       "<table border=\"1\" class=\"dataframe\">\n",
       "  <thead>\n",
       "    <tr style=\"text-align: right;\">\n",
       "      <th></th>\n",
       "      <th>index</th>\n",
       "      <th>period</th>\n",
       "      <th>attendances</th>\n",
       "      <th>breaches</th>\n",
       "      <th>consent</th>\n",
       "    </tr>\n",
       "  </thead>\n",
       "  <tbody>\n",
       "    <tr>\n",
       "      <th>0</th>\n",
       "      <td>1860</td>\n",
       "      <td>2016-10-01</td>\n",
       "      <td>8472</td>\n",
       "      <td>1977</td>\n",
       "      <td>True</td>\n",
       "    </tr>\n",
       "    <tr>\n",
       "      <th>0</th>\n",
       "      <td>2350</td>\n",
       "      <td>2016-09-01</td>\n",
       "      <td>5033</td>\n",
       "      <td>17</td>\n",
       "      <td>True</td>\n",
       "    </tr>\n",
       "    <tr>\n",
       "      <th>0</th>\n",
       "      <td>1732</td>\n",
       "      <td>2016-08-01</td>\n",
       "      <td>1732</td>\n",
       "      <td>0</td>\n",
       "      <td>True</td>\n",
       "    </tr>\n",
       "    <tr>\n",
       "      <th>0</th>\n",
       "      <td>3299</td>\n",
       "      <td>2016-06-01</td>\n",
       "      <td>9464</td>\n",
       "      <td>1941</td>\n",
       "      <td>True</td>\n",
       "    </tr>\n",
       "    <tr>\n",
       "      <th>0</th>\n",
       "      <td>4176</td>\n",
       "      <td>2018-03-01</td>\n",
       "      <td>17247</td>\n",
       "      <td>273</td>\n",
       "      <td>True</td>\n",
       "    </tr>\n",
       "    <tr>\n",
       "      <th>0</th>\n",
       "      <td>4519</td>\n",
       "      <td>2018-02-01</td>\n",
       "      <td>13286</td>\n",
       "      <td>59</td>\n",
       "      <td>True</td>\n",
       "    </tr>\n",
       "    <tr>\n",
       "      <th>0</th>\n",
       "      <td>7346</td>\n",
       "      <td>2017-07-01</td>\n",
       "      <td>6797</td>\n",
       "      <td>644</td>\n",
       "      <td>True</td>\n",
       "    </tr>\n",
       "    <tr>\n",
       "      <th>0</th>\n",
       "      <td>7980</td>\n",
       "      <td>2017-05-01</td>\n",
       "      <td>10063</td>\n",
       "      <td>1874</td>\n",
       "      <td>True</td>\n",
       "    </tr>\n",
       "    <tr>\n",
       "      <th>0</th>\n",
       "      <td>9182</td>\n",
       "      <td>2019-01-01</td>\n",
       "      <td>474</td>\n",
       "      <td>0</td>\n",
       "      <td>True</td>\n",
       "    </tr>\n",
       "    <tr>\n",
       "      <th>0</th>\n",
       "      <td>10077</td>\n",
       "      <td>2019-11-01</td>\n",
       "      <td>10379</td>\n",
       "      <td>727</td>\n",
       "      <td>True</td>\n",
       "    </tr>\n",
       "    <tr>\n",
       "      <th>0</th>\n",
       "      <td>10412</td>\n",
       "      <td>2018-10-01</td>\n",
       "      <td>334</td>\n",
       "      <td>0</td>\n",
       "      <td>True</td>\n",
       "    </tr>\n",
       "    <tr>\n",
       "      <th>0</th>\n",
       "      <td>10583</td>\n",
       "      <td>2018-09-01</td>\n",
       "      <td>9658</td>\n",
       "      <td>72</td>\n",
       "      <td>True</td>\n",
       "    </tr>\n",
       "  </tbody>\n",
       "</table>\n",
       "</div>"
      ],
      "text/plain": [
       "   index      period  attendances  breaches  consent\n",
       "0   1860  2016-10-01         8472      1977     True\n",
       "0   2350  2016-09-01         5033        17     True\n",
       "0   1732  2016-08-01         1732         0     True\n",
       "0   3299  2016-06-01         9464      1941     True\n",
       "0   4176  2018-03-01        17247       273     True\n",
       "0   4519  2018-02-01        13286        59     True\n",
       "0   7346  2017-07-01         6797       644     True\n",
       "0   7980  2017-05-01        10063      1874     True\n",
       "0   9182  2019-01-01          474         0     True\n",
       "0  10077  2019-11-01        10379       727     True\n",
       "0  10412  2018-10-01          334         0     True\n",
       "0  10583  2018-09-01         9658        72     True"
      ]
     },
     "metadata": {},
     "output_type": "display_data"
    }
   ],
   "source": [
    "createdData=createdData[createdData['consent'] == True]\n",
    "display(createdData)"
   ]
  },
  {
   "cell_type": "code",
   "execution_count": 102,
   "id": "sporting-civilian",
   "metadata": {},
   "outputs": [],
   "source": [
    "createdData.to_csv('/home/jovyan/B209415/B209415- Second assessment - Descriptive report/Discriptive-Report/Data/createdData.csv', index=False)"
   ]
  }
 ],
 "metadata": {
  "kernelspec": {
   "display_name": "Python 3 (ipykernel)",
   "language": "python",
   "name": "python3"
  },
  "language_info": {
   "codemirror_mode": {
    "name": "ipython",
    "version": 3
   },
   "file_extension": ".py",
   "mimetype": "text/x-python",
   "name": "python",
   "nbconvert_exporter": "python",
   "pygments_lexer": "ipython3",
   "version": "3.9.2"
  }
 },
 "nbformat": 4,
 "nbformat_minor": 5
}
